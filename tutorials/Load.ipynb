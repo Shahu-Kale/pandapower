{
 "cells": [
  {
   "cell_type": "code",
   "execution_count": null,
   "metadata": {},
   "outputs": [],
   "source": [
    "import numpy\n",
    "import matplotlib.pyplot as plt\n",
    "import pandas as pd\n",
    "import seaborn as sb\n",
    "\n",
    "load_data = {'Hour':[0, 1, 2, 3, 4, 5, 6, 7, 8, 9, 10, 11, 12, 13, 14, 15, 16, 17, 18, 19, 20, 21, 22, 23], \n",
    "        'Load':[44684,43850,43585,43635,45197,48908,56513,61771,64250,65337,67293,68772,69344,69391,68760,67852,66477,65219,63839,63925,61172,58355,55402,52056,] \n",
    "            }\n",
    "load_df = pd.DataFrame(load_data)\n",
    "sb.set(rc={\"figure.figsize\":(10, 6)})\n",
    "p = sb.lineplot(x = \"Hour\", y = \"Load\", data = load_df)\n",
    "plt.ylim(0, None)\n",
    "plt.xlim(0, None)\n",
    "p.set_title(\"Load Profile\", fontsize = 30)\n",
    "p.set_xlabel(\"Time (Hrs)\", fontsize = 20)\n",
    "p.set_ylabel(\"Load (MW)\", fontsize = 20)\n",
    "plt.show()\n",
    "load_df['interval'] = 1\n",
    "load_df_sorted = load_df.sort_values(by=['Load'], ascending = False)\n",
    "load_df_sorted['duration'] = load_df_sorted['interval'].cumsum()\n",
    "load_df_sorted['percentage'] = load_df_sorted['duration']*100/24\n",
    "#Plot the load_duration curve (Load vs Percentage of time)\n",
    "p = sb.lineplot(x = \"percentage\", y = \"Load\", data = load_df_sorted)\n",
    "plt.ylim(0, None)\n",
    "plt.xlim(0, None)\n",
    "p.set_title(\"Load-Duration Curve\", fontsize = 30)\n",
    "p.set_xlabel(\"Time (%)\", fontsize = 20)\n",
    "p.set_ylabel(\"Load (MW)\", fontsize = 20)\n",
    "plt.show()"
   ]
  }
 ],
 "metadata": {
  "kernelspec": {
   "display_name": "Python 3.9.13 ('base')",
   "language": "python",
   "name": "python3"
  },
  "language_info": {
   "codemirror_mode": {
    "name": "ipython",
    "version": 3
   },
   "file_extension": ".py",
   "mimetype": "text/x-python",
   "name": "python",
   "nbconvert_exporter": "python",
   "pygments_lexer": "ipython3",
   "version": "3.9.13"
  },
  "orig_nbformat": 4,
  "vscode": {
   "interpreter": {
    "hash": "5179d32cf6ec497baf3f8a3ef987cc77c5d2dc691fdde20a56316522f61a7323"
   }
  }
 },
 "nbformat": 4,
 "nbformat_minor": 2
}
